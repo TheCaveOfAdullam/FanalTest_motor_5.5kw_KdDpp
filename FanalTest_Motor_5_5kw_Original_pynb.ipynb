{
  "nbformat": 4,
  "nbformat_minor": 0,
  "metadata": {
    "colab": {
      "provenance": [],
      "gpuType": "T4",
      "mount_file_id": "1Lc81mVw6-G5ccJS_8hnGWIRSn6eSSJJi",
      "authorship_tag": "ABX9TyNQisIAw4iIQ2N0g8FZ9wiU",
      "include_colab_link": true
    },
    "kernelspec": {
      "name": "python3",
      "display_name": "Python 3"
    },
    "language_info": {
      "name": "python"
    },
    "accelerator": "GPU"
  },
  "cells": [
    {
      "cell_type": "markdown",
      "metadata": {
        "id": "view-in-github",
        "colab_type": "text"
      },
      "source": [
        "<a href=\"https://colab.research.google.com/github/TheCaveOfAdullam/FanalTest_motor_5.5kw_KdDpp/blob/main/FanalTest_Motor_5_5kw_Original_pynb.ipynb\" target=\"_parent\"><img src=\"https://colab.research.google.com/assets/colab-badge.svg\" alt=\"Open In Colab\"/></a>"
      ]
    },
    {
      "cell_type": "code",
      "execution_count": 1,
      "metadata": {
        "id": "DxD1P_3PdypK",
        "colab": {
          "base_uri": "https://localhost:8080/"
        },
        "outputId": "3858305d-63a2-465e-b43c-ef9f78af7179"
      },
      "outputs": [
        {
          "output_type": "stream",
          "name": "stdout",
          "text": [
            "Mounted at /content/drive\n"
          ]
        }
      ],
      "source": [
        "from google.colab import drive\n",
        "drive.mount('/content/drive')"
      ]
    },
    {
      "cell_type": "code",
      "source": [
        "!pip install torch_pruning\n",
        "!pip install ptflops\n",
        "!pip install fvcore"
      ],
      "metadata": {
        "id": "x1FopAAUd__8",
        "colab": {
          "base_uri": "https://localhost:8080/"
        },
        "outputId": "5db36660-9fc4-4bc3-eca5-c1da63acf6cf"
      },
      "execution_count": 2,
      "outputs": [
        {
          "output_type": "stream",
          "name": "stdout",
          "text": [
            "Collecting torch_pruning\n",
            "  Downloading torch_pruning-1.6.1-py3-none-any.whl.metadata (32 kB)\n",
            "Requirement already satisfied: torch>=2.0 in /usr/local/lib/python3.12/dist-packages (from torch_pruning) (2.8.0+cu126)\n",
            "Requirement already satisfied: numpy in /usr/local/lib/python3.12/dist-packages (from torch_pruning) (2.0.2)\n",
            "Requirement already satisfied: filelock in /usr/local/lib/python3.12/dist-packages (from torch>=2.0->torch_pruning) (3.20.0)\n",
            "Requirement already satisfied: typing-extensions>=4.10.0 in /usr/local/lib/python3.12/dist-packages (from torch>=2.0->torch_pruning) (4.15.0)\n",
            "Requirement already satisfied: setuptools in /usr/local/lib/python3.12/dist-packages (from torch>=2.0->torch_pruning) (75.2.0)\n",
            "Requirement already satisfied: sympy>=1.13.3 in /usr/local/lib/python3.12/dist-packages (from torch>=2.0->torch_pruning) (1.13.3)\n",
            "Requirement already satisfied: networkx in /usr/local/lib/python3.12/dist-packages (from torch>=2.0->torch_pruning) (3.5)\n",
            "Requirement already satisfied: jinja2 in /usr/local/lib/python3.12/dist-packages (from torch>=2.0->torch_pruning) (3.1.6)\n",
            "Requirement already satisfied: fsspec in /usr/local/lib/python3.12/dist-packages (from torch>=2.0->torch_pruning) (2025.3.0)\n",
            "Requirement already satisfied: nvidia-cuda-nvrtc-cu12==12.6.77 in /usr/local/lib/python3.12/dist-packages (from torch>=2.0->torch_pruning) (12.6.77)\n",
            "Requirement already satisfied: nvidia-cuda-runtime-cu12==12.6.77 in /usr/local/lib/python3.12/dist-packages (from torch>=2.0->torch_pruning) (12.6.77)\n",
            "Requirement already satisfied: nvidia-cuda-cupti-cu12==12.6.80 in /usr/local/lib/python3.12/dist-packages (from torch>=2.0->torch_pruning) (12.6.80)\n",
            "Requirement already satisfied: nvidia-cudnn-cu12==9.10.2.21 in /usr/local/lib/python3.12/dist-packages (from torch>=2.0->torch_pruning) (9.10.2.21)\n",
            "Requirement already satisfied: nvidia-cublas-cu12==12.6.4.1 in /usr/local/lib/python3.12/dist-packages (from torch>=2.0->torch_pruning) (12.6.4.1)\n",
            "Requirement already satisfied: nvidia-cufft-cu12==11.3.0.4 in /usr/local/lib/python3.12/dist-packages (from torch>=2.0->torch_pruning) (11.3.0.4)\n",
            "Requirement already satisfied: nvidia-curand-cu12==10.3.7.77 in /usr/local/lib/python3.12/dist-packages (from torch>=2.0->torch_pruning) (10.3.7.77)\n",
            "Requirement already satisfied: nvidia-cusolver-cu12==11.7.1.2 in /usr/local/lib/python3.12/dist-packages (from torch>=2.0->torch_pruning) (11.7.1.2)\n",
            "Requirement already satisfied: nvidia-cusparse-cu12==12.5.4.2 in /usr/local/lib/python3.12/dist-packages (from torch>=2.0->torch_pruning) (12.5.4.2)\n",
            "Requirement already satisfied: nvidia-cusparselt-cu12==0.7.1 in /usr/local/lib/python3.12/dist-packages (from torch>=2.0->torch_pruning) (0.7.1)\n",
            "Requirement already satisfied: nvidia-nccl-cu12==2.27.3 in /usr/local/lib/python3.12/dist-packages (from torch>=2.0->torch_pruning) (2.27.3)\n",
            "Requirement already satisfied: nvidia-nvtx-cu12==12.6.77 in /usr/local/lib/python3.12/dist-packages (from torch>=2.0->torch_pruning) (12.6.77)\n",
            "Requirement already satisfied: nvidia-nvjitlink-cu12==12.6.85 in /usr/local/lib/python3.12/dist-packages (from torch>=2.0->torch_pruning) (12.6.85)\n",
            "Requirement already satisfied: nvidia-cufile-cu12==1.11.1.6 in /usr/local/lib/python3.12/dist-packages (from torch>=2.0->torch_pruning) (1.11.1.6)\n",
            "Requirement already satisfied: triton==3.4.0 in /usr/local/lib/python3.12/dist-packages (from torch>=2.0->torch_pruning) (3.4.0)\n",
            "Requirement already satisfied: mpmath<1.4,>=1.1.0 in /usr/local/lib/python3.12/dist-packages (from sympy>=1.13.3->torch>=2.0->torch_pruning) (1.3.0)\n",
            "Requirement already satisfied: MarkupSafe>=2.0 in /usr/local/lib/python3.12/dist-packages (from jinja2->torch>=2.0->torch_pruning) (3.0.3)\n",
            "Downloading torch_pruning-1.6.1-py3-none-any.whl (70 kB)\n",
            "\u001b[?25l   \u001b[90m━━━━━━━━━━━━━━━━━━━━━━━━━━━━━━━━━━━━━━━━\u001b[0m \u001b[32m0.0/70.2 kB\u001b[0m \u001b[31m?\u001b[0m eta \u001b[36m-:--:--\u001b[0m\r\u001b[2K   \u001b[90m━━━━━━━━━━━━━━━━━━━━━━━━━━━━━━━━━━━━━━━━\u001b[0m \u001b[32m70.2/70.2 kB\u001b[0m \u001b[31m4.4 MB/s\u001b[0m eta \u001b[36m0:00:00\u001b[0m\n",
            "\u001b[?25hInstalling collected packages: torch_pruning\n",
            "Successfully installed torch_pruning-1.6.1\n",
            "Collecting ptflops\n",
            "  Downloading ptflops-0.7.5-py3-none-any.whl.metadata (9.4 kB)\n",
            "Requirement already satisfied: torch>=2.0 in /usr/local/lib/python3.12/dist-packages (from ptflops) (2.8.0+cu126)\n",
            "Requirement already satisfied: filelock in /usr/local/lib/python3.12/dist-packages (from torch>=2.0->ptflops) (3.20.0)\n",
            "Requirement already satisfied: typing-extensions>=4.10.0 in /usr/local/lib/python3.12/dist-packages (from torch>=2.0->ptflops) (4.15.0)\n",
            "Requirement already satisfied: setuptools in /usr/local/lib/python3.12/dist-packages (from torch>=2.0->ptflops) (75.2.0)\n",
            "Requirement already satisfied: sympy>=1.13.3 in /usr/local/lib/python3.12/dist-packages (from torch>=2.0->ptflops) (1.13.3)\n",
            "Requirement already satisfied: networkx in /usr/local/lib/python3.12/dist-packages (from torch>=2.0->ptflops) (3.5)\n",
            "Requirement already satisfied: jinja2 in /usr/local/lib/python3.12/dist-packages (from torch>=2.0->ptflops) (3.1.6)\n",
            "Requirement already satisfied: fsspec in /usr/local/lib/python3.12/dist-packages (from torch>=2.0->ptflops) (2025.3.0)\n",
            "Requirement already satisfied: nvidia-cuda-nvrtc-cu12==12.6.77 in /usr/local/lib/python3.12/dist-packages (from torch>=2.0->ptflops) (12.6.77)\n",
            "Requirement already satisfied: nvidia-cuda-runtime-cu12==12.6.77 in /usr/local/lib/python3.12/dist-packages (from torch>=2.0->ptflops) (12.6.77)\n",
            "Requirement already satisfied: nvidia-cuda-cupti-cu12==12.6.80 in /usr/local/lib/python3.12/dist-packages (from torch>=2.0->ptflops) (12.6.80)\n",
            "Requirement already satisfied: nvidia-cudnn-cu12==9.10.2.21 in /usr/local/lib/python3.12/dist-packages (from torch>=2.0->ptflops) (9.10.2.21)\n",
            "Requirement already satisfied: nvidia-cublas-cu12==12.6.4.1 in /usr/local/lib/python3.12/dist-packages (from torch>=2.0->ptflops) (12.6.4.1)\n",
            "Requirement already satisfied: nvidia-cufft-cu12==11.3.0.4 in /usr/local/lib/python3.12/dist-packages (from torch>=2.0->ptflops) (11.3.0.4)\n",
            "Requirement already satisfied: nvidia-curand-cu12==10.3.7.77 in /usr/local/lib/python3.12/dist-packages (from torch>=2.0->ptflops) (10.3.7.77)\n",
            "Requirement already satisfied: nvidia-cusolver-cu12==11.7.1.2 in /usr/local/lib/python3.12/dist-packages (from torch>=2.0->ptflops) (11.7.1.2)\n",
            "Requirement already satisfied: nvidia-cusparse-cu12==12.5.4.2 in /usr/local/lib/python3.12/dist-packages (from torch>=2.0->ptflops) (12.5.4.2)\n",
            "Requirement already satisfied: nvidia-cusparselt-cu12==0.7.1 in /usr/local/lib/python3.12/dist-packages (from torch>=2.0->ptflops) (0.7.1)\n",
            "Requirement already satisfied: nvidia-nccl-cu12==2.27.3 in /usr/local/lib/python3.12/dist-packages (from torch>=2.0->ptflops) (2.27.3)\n",
            "Requirement already satisfied: nvidia-nvtx-cu12==12.6.77 in /usr/local/lib/python3.12/dist-packages (from torch>=2.0->ptflops) (12.6.77)\n",
            "Requirement already satisfied: nvidia-nvjitlink-cu12==12.6.85 in /usr/local/lib/python3.12/dist-packages (from torch>=2.0->ptflops) (12.6.85)\n",
            "Requirement already satisfied: nvidia-cufile-cu12==1.11.1.6 in /usr/local/lib/python3.12/dist-packages (from torch>=2.0->ptflops) (1.11.1.6)\n",
            "Requirement already satisfied: triton==3.4.0 in /usr/local/lib/python3.12/dist-packages (from torch>=2.0->ptflops) (3.4.0)\n",
            "Requirement already satisfied: mpmath<1.4,>=1.1.0 in /usr/local/lib/python3.12/dist-packages (from sympy>=1.13.3->torch>=2.0->ptflops) (1.3.0)\n",
            "Requirement already satisfied: MarkupSafe>=2.0 in /usr/local/lib/python3.12/dist-packages (from jinja2->torch>=2.0->ptflops) (3.0.3)\n",
            "Downloading ptflops-0.7.5-py3-none-any.whl (19 kB)\n",
            "Installing collected packages: ptflops\n",
            "Successfully installed ptflops-0.7.5\n",
            "Collecting fvcore\n",
            "  Downloading fvcore-0.1.5.post20221221.tar.gz (50 kB)\n",
            "\u001b[2K     \u001b[90m━━━━━━━━━━━━━━━━━━━━━━━━━━━━━━━━━━━━━━━━\u001b[0m \u001b[32m50.2/50.2 kB\u001b[0m \u001b[31m4.8 MB/s\u001b[0m eta \u001b[36m0:00:00\u001b[0m\n",
            "\u001b[?25h  Preparing metadata (setup.py) ... \u001b[?25l\u001b[?25hdone\n",
            "Requirement already satisfied: numpy in /usr/local/lib/python3.12/dist-packages (from fvcore) (2.0.2)\n",
            "Collecting yacs>=0.1.6 (from fvcore)\n",
            "  Downloading yacs-0.1.8-py3-none-any.whl.metadata (639 bytes)\n",
            "Requirement already satisfied: pyyaml>=5.1 in /usr/local/lib/python3.12/dist-packages (from fvcore) (6.0.3)\n",
            "Requirement already satisfied: tqdm in /usr/local/lib/python3.12/dist-packages (from fvcore) (4.67.1)\n",
            "Requirement already satisfied: termcolor>=1.1 in /usr/local/lib/python3.12/dist-packages (from fvcore) (3.1.0)\n",
            "Requirement already satisfied: Pillow in /usr/local/lib/python3.12/dist-packages (from fvcore) (11.3.0)\n",
            "Requirement already satisfied: tabulate in /usr/local/lib/python3.12/dist-packages (from fvcore) (0.9.0)\n",
            "Collecting iopath>=0.1.7 (from fvcore)\n",
            "  Downloading iopath-0.1.10.tar.gz (42 kB)\n",
            "\u001b[2K     \u001b[90m━━━━━━━━━━━━━━━━━━━━━━━━━━━━━━━━━━━━━━━━\u001b[0m \u001b[32m42.2/42.2 kB\u001b[0m \u001b[31m4.5 MB/s\u001b[0m eta \u001b[36m0:00:00\u001b[0m\n",
            "\u001b[?25h  Preparing metadata (setup.py) ... \u001b[?25l\u001b[?25hdone\n",
            "Requirement already satisfied: typing_extensions in /usr/local/lib/python3.12/dist-packages (from iopath>=0.1.7->fvcore) (4.15.0)\n",
            "Collecting portalocker (from iopath>=0.1.7->fvcore)\n",
            "  Downloading portalocker-3.2.0-py3-none-any.whl.metadata (8.7 kB)\n",
            "Downloading yacs-0.1.8-py3-none-any.whl (14 kB)\n",
            "Downloading portalocker-3.2.0-py3-none-any.whl (22 kB)\n",
            "Building wheels for collected packages: fvcore, iopath\n",
            "  Building wheel for fvcore (setup.py) ... \u001b[?25l\u001b[?25hdone\n",
            "  Created wheel for fvcore: filename=fvcore-0.1.5.post20221221-py3-none-any.whl size=61397 sha256=553f513ec218696c042feb1cc5be73c08b2740ffe79428bd5efd83a2f1183dc4\n",
            "  Stored in directory: /root/.cache/pip/wheels/ed/9f/a5/e4f5b27454ccd4596bd8b62432c7d6b1ca9fa22aef9d70a16a\n",
            "  Building wheel for iopath (setup.py) ... \u001b[?25l\u001b[?25hdone\n",
            "  Created wheel for iopath: filename=iopath-0.1.10-py3-none-any.whl size=31527 sha256=dc0ed0efde934e95488b4db3f3280544dc7357b49ce88d89c90b8db2b36d2c97\n",
            "  Stored in directory: /root/.cache/pip/wheels/7c/96/04/4f5f31ff812f684f69f40cb1634357812220aac58d4698048c\n",
            "Successfully built fvcore iopath\n",
            "Installing collected packages: yacs, portalocker, iopath, fvcore\n",
            "Successfully installed fvcore-0.1.5.post20221221 iopath-0.1.10 portalocker-3.2.0 yacs-0.1.8\n"
          ]
        }
      ]
    },
    {
      "cell_type": "code",
      "source": [
        "import os\n",
        "import numpy as np\n",
        "import pandas as pd\n",
        "import torch\n",
        "import torch.nn as nn\n",
        "import torch.optim as optim\n",
        "from torch.utils.data import DataLoader, Dataset\n",
        "from sklearn.preprocessing import LabelEncoder\n",
        "from sklearn.metrics import f1_score, confusion_matrix\n",
        "import torch.nn.utils.prune as prune\n",
        "import torch_pruning as tp\n",
        "import matplotlib.pyplot as plt\n",
        "import seaborn as sns\n",
        "from collections import defaultdict\n",
        "from tqdm import tqdm\n",
        "from ptflops import get_model_complexity_info\n",
        "import time\n",
        "import random"
      ],
      "metadata": {
        "id": "H86DYFdzeACs"
      },
      "execution_count": 3,
      "outputs": []
    },
    {
      "cell_type": "code",
      "source": [
        "seed = 72\n",
        "torch.manual_seed(seed)\n",
        "torch.cuda.manual_seed_all(seed)  # GPU 사용 시\n",
        "np.random.seed(seed)\n",
        "random.seed(seed)\n",
        "\n",
        "torch.backends.cudnn.deterministic = True\n",
        "torch.backends.cudnn.benchmark = False"
      ],
      "metadata": {
        "id": "IW9TOLDN5TNO"
      },
      "execution_count": 4,
      "outputs": []
    },
    {
      "cell_type": "code",
      "source": [
        "# 기본 경로 설정\n",
        "base_dir = '/content/drive/MyDrive/motor_5.5kw_ver5'\n",
        "categories = ['normal', 'fault_BB', 'fault_RI', 'fault_SM']\n",
        "device = torch.device(\"cuda\" if torch.cuda.is_available() else \"cpu\")\n",
        "\n",
        "# 데이터 로드 및 전처리 함수 정의\n",
        "class VibrationDataset(Dataset):\n",
        "    def __init__(self, base_dir, split, categories, label_encoder, segment_length=4000, transform=None):\n",
        "        self.X = []\n",
        "        self.y = []\n",
        "        self.transform = transform\n",
        "        self.segment_length = segment_length\n",
        "        self.file_count = defaultdict(int)  # 카테고리별 파일 개수를 저장할 딕셔너리\n",
        "\n",
        "        split_dir = os.path.join(base_dir, split)\n",
        "        for category in categories:\n",
        "            category_dir = os.path.join(split_dir, category)\n",
        "            files = os.listdir(category_dir)\n",
        "            self.file_count[category] = len(files)  # 카테고리별 파일 수 저장\n",
        "\n",
        "            for file in files:\n",
        "                file_path = os.path.join(category_dir, file)\n",
        "                data = pd.read_csv(file_path, header=None, skiprows=1)  # 첫 행 건너뜀\n",
        "\n",
        "                # 첫 번째 열(시간 데이터)을 제외하고 주파수 데이터만 선택\n",
        "                frequency_data = data.iloc[:, 1:].apply(pd.to_numeric, errors='coerce').fillna(0).values\n",
        "\n",
        "                # 데이터를 세그먼트로 분할\n",
        "                num_segments = frequency_data.shape[0] // self.segment_length\n",
        "                for i in range(num_segments):\n",
        "                    segment = frequency_data[i * self.segment_length:(i + 1) * self.segment_length]\n",
        "                    self.X.append(segment)  # 주파수 데이터만 포함\n",
        "                    self.y.append(label_encoder.transform([category])[0])\n",
        "\n",
        "        # 카테고리별 파일 개수 출력\n",
        "        print(f\"File count for '{split}' split:\")\n",
        "        for category, count in self.file_count.items():\n",
        "            print(f\"  {category}: {count} files\")\n",
        "\n",
        "    def __len__(self):\n",
        "        return len(self.X)\n",
        "\n",
        "    def __getitem__(self, idx):\n",
        "        X = self.X[idx].T  # 2D 입력 (채널, 길이)로 변경\n",
        "        y = self.y[idx]\n",
        "        return torch.tensor(X, dtype=torch.float32), torch.tensor(y, dtype=torch.long)\n",
        "\n",
        "# 레이블 인코딩\n",
        "label_encoder = LabelEncoder()\n",
        "label_encoder.fit(categories)\n",
        "\n",
        "# 데이터셋 준비\n",
        "train_dataset = VibrationDataset(base_dir, 'train', categories, label_encoder)\n",
        "val_dataset = VibrationDataset(base_dir, 'validation', categories, label_encoder)\n",
        "test_dataset = VibrationDataset(base_dir, 'test', categories, label_encoder)\n",
        "\n",
        "# 데이터 로더\n",
        "batch_size = 32\n",
        "train_loader = DataLoader(train_dataset, batch_size=batch_size, shuffle=True)\n",
        "val_loader = DataLoader(val_dataset, batch_size=batch_size, shuffle=False)\n",
        "test_loader = DataLoader(test_dataset, batch_size=batch_size, shuffle=False)\n",
        "\n",
        "# 첫 번째 데이터의 크기를 이용해 input_length 결정\n",
        "first_sample, _ = train_dataset[0]\n",
        "input_length = first_sample.shape[1]  # X는 (채널, 길이) 형태이므로 길이는 첫 번째 데이터의 두 번째 차원\n",
        "print(f\"Input length for one sample: {input_length}\")"
      ],
      "metadata": {
        "id": "CLVeDihoeAFT",
        "colab": {
          "base_uri": "https://localhost:8080/"
        },
        "outputId": "efd18211-963f-42c1-e6ff-93d5701bec09"
      },
      "execution_count": 5,
      "outputs": [
        {
          "output_type": "stream",
          "name": "stdout",
          "text": [
            "File count for 'train' split:\n",
            "  normal: 2100 files\n",
            "  fault_BB: 2100 files\n",
            "  fault_RI: 2100 files\n",
            "  fault_SM: 2100 files\n",
            "File count for 'validation' split:\n",
            "  normal: 450 files\n",
            "  fault_BB: 450 files\n",
            "  fault_RI: 450 files\n",
            "  fault_SM: 450 files\n",
            "File count for 'test' split:\n",
            "  normal: 450 files\n",
            "  fault_BB: 450 files\n",
            "  fault_RI: 450 files\n",
            "  fault_SM: 450 files\n",
            "Input length for one sample: 4000\n"
          ]
        }
      ]
    },
    {
      "cell_type": "code",
      "source": [
        "# CNN 모델 정의\n",
        "class CNNModel(nn.Module):\n",
        "    def __init__(self, input_length):\n",
        "        super(CNNModel, self).__init__()\n",
        "        self.conv1 = nn.Conv1d(in_channels=1, out_channels=64, kernel_size=16, stride=16)\n",
        "        self.pool1 = nn.MaxPool1d(kernel_size=2, stride=2)\n",
        "        self.conv2 = nn.Conv1d(in_channels=64, out_channels=32, kernel_size=3, stride=1)\n",
        "        self.conv3 = nn.Conv1d(in_channels=32, out_channels=64, kernel_size=5, stride=1)\n",
        "        self.conv4 = nn.Conv1d(in_channels=64, out_channels=128, kernel_size=5, stride=1)\n",
        "        self.pool2 = nn.MaxPool1d(kernel_size=2, stride=2)\n",
        "\n",
        "        # 출력 크기 계산\n",
        "        with torch.no_grad():\n",
        "            sample_input = torch.zeros(1, 1, input_length)\n",
        "            sample_output = self.forward_conv_layers(sample_input)\n",
        "            conv_output_size = sample_output.size(1) * sample_output.size(2)\n",
        "\n",
        "        self.fc1 = nn.Linear(conv_output_size, 5000)\n",
        "        self.fc2 = nn.Linear(5000, 1000)\n",
        "        self.fc3 = nn.Linear(1000, len(categories))\n",
        "\n",
        "    def forward_conv_layers(self, x):\n",
        "        x = self.pool1(torch.relu(self.conv1(x)))\n",
        "        x = torch.relu(self.conv2(x))\n",
        "        x = torch.relu(self.conv3(x))\n",
        "        x = self.pool2(torch.relu(self.conv4(x)))\n",
        "        return x\n",
        "\n",
        "    def forward(self, x):\n",
        "        x = self.forward_conv_layers(x)\n",
        "        x = x.view(x.size(0), -1)\n",
        "        x = torch.relu(self.fc1(x))\n",
        "        x = torch.relu(self.fc2(x))\n",
        "        x = self.fc3(x)\n",
        "        return x"
      ],
      "metadata": {
        "id": "p8vg7KB8eAHz"
      },
      "execution_count": 6,
      "outputs": []
    },
    {
      "cell_type": "code",
      "source": [
        "# 모델 학습 함수 (학습 곡선 기록 추가)\n",
        "def train_model(model, train_loader, val_loader, criterion, optimizer, num_epochs=5, max_norm=1.0):\n",
        "    model.to(device)\n",
        "\n",
        "    train_losses = []\n",
        "    val_losses = []\n",
        "    train_accuracies = []\n",
        "    val_accuracies = []\n",
        "\n",
        "    for epoch in range(num_epochs):\n",
        "        model.train()\n",
        "        running_loss = 0.0\n",
        "        correct = 0\n",
        "        total = 0\n",
        "\n",
        "        train_loader_iter = tqdm(train_loader, desc=f\"Epoch {epoch+1}/{num_epochs}\", unit=\"batch\")\n",
        "\n",
        "        for inputs, labels in train_loader_iter:\n",
        "            inputs, labels = inputs.to(device), labels.to(device)\n",
        "            optimizer.zero_grad()\n",
        "            outputs = model(inputs)\n",
        "            loss = criterion(outputs, labels)\n",
        "            loss.backward()\n",
        "\n",
        "            # Gradient clipping\n",
        "            torch.nn.utils.clip_grad_norm_(model.parameters(), max_norm)\n",
        "            optimizer.step()\n",
        "\n",
        "            running_loss += loss.item()\n",
        "            _, predicted = torch.max(outputs, 1)\n",
        "            total += labels.size(0)\n",
        "            correct += (predicted == labels).sum().item()\n",
        "            train_loader_iter.set_postfix(loss=loss.item(), accuracy=100 * correct / total)\n",
        "\n",
        "        train_loss = running_loss / len(train_loader)\n",
        "        train_accuracy = 100 * correct / total\n",
        "        train_losses.append(train_loss)\n",
        "        train_accuracies.append(train_accuracy)\n",
        "\n",
        "        val_loss, val_accuracy = evaluate_model(model, val_loader, criterion)\n",
        "        val_losses.append(val_loss)\n",
        "        val_accuracies.append(val_accuracy)\n",
        "\n",
        "        print(f'Epoch [{epoch+1}/{num_epochs}], Loss: {train_loss:.4f}, Accuracy: {train_accuracy:.2f}%, '\n",
        "              f'Val Loss: {val_loss:.4f}, Val Accuracy: {val_accuracy:.2f}%')\n",
        "\n",
        "    # 학습 곡선 시각화\n",
        "    plt.figure(figsize=(12, 5))\n",
        "    plt.subplot(1, 2, 1)\n",
        "    plt.plot(range(1, num_epochs + 1), train_losses, label='Train Loss')\n",
        "    plt.plot(range(1, num_epochs + 1), val_losses, label='Validation Loss')\n",
        "    plt.xlabel('Epochs')\n",
        "    plt.ylabel('Loss')\n",
        "    plt.title('Training and Validation Loss')\n",
        "    plt.legend()\n",
        "\n",
        "    plt.subplot(1, 2, 2)\n",
        "    plt.plot(range(1, num_epochs + 1), train_accuracies, label='Train Accuracy')\n",
        "    plt.plot(range(1, num_epochs + 1), val_accuracies, label='Validation Accuracy')\n",
        "    plt.xlabel('Epochs')\n",
        "    plt.ylabel('Accuracy (%)')\n",
        "    plt.title('Training and Validation Accuracy')\n",
        "    plt.legend()\n",
        "\n",
        "    plt.show()\n",
        "\n",
        "    return model"
      ],
      "metadata": {
        "id": "AeqiRyI6eAKr"
      },
      "execution_count": 7,
      "outputs": []
    },
    {
      "cell_type": "code",
      "source": [
        "# 모델 평가 함수\n",
        "def evaluate_model(model, loader, criterion):\n",
        "    model.eval()\n",
        "    val_loss = 0.0\n",
        "    correct = 0\n",
        "    total = 0\n",
        "    with torch.no_grad():\n",
        "        for inputs, labels in loader:\n",
        "            inputs, labels = inputs.to(device), labels.to(device)\n",
        "            outputs = model(inputs)\n",
        "            loss = criterion(outputs, labels)\n",
        "            val_loss += loss.item()\n",
        "            _, predicted = torch.max(outputs, 1)\n",
        "            total += labels.size(0)\n",
        "            correct += (predicted == labels).sum().item()\n",
        "\n",
        "    average_val_loss = val_loss / len(loader)\n",
        "    val_accuracy = 100 * correct / total\n",
        "\n",
        "    return average_val_loss, val_accuracy\n",
        "\n",
        "# 모델 크기 계산\n",
        "def get_model_size(model):\n",
        "    param_size = 0\n",
        "    for param in model.parameters():\n",
        "        param_size += param.nelement() * param.element_size()\n",
        "    buffer_size = 0\n",
        "    for buffer in model.buffers():\n",
        "        buffer_size += buffer.nelement() * buffer.element_size()\n",
        "    model_size = (param_size + buffer_size) / 1024**2  # Convert to MB\n",
        "    return model_size"
      ],
      "metadata": {
        "id": "zz9IDC4veANM"
      },
      "execution_count": 8,
      "outputs": []
    },
    {
      "cell_type": "code",
      "source": [
        "# F1 스코어 계산\n",
        "def calculate_f1_score(model, loader, device):\n",
        "    model.eval()\n",
        "    all_labels = []\n",
        "    all_predictions = []\n",
        "    with torch.no_grad():\n",
        "        for inputs, labels in loader:\n",
        "            inputs, labels = inputs.to(device), labels.to(device)\n",
        "            outputs = model(inputs)\n",
        "            _, predicted = torch.max(outputs, 1)\n",
        "            all_labels.extend(labels.cpu().numpy())\n",
        "            all_predictions.extend(predicted.cpu().numpy())\n",
        "    f1 = f1_score(all_labels, all_predictions, average='weighted')\n",
        "    print(f\"F1 Score: {f1:.4f}\")"
      ],
      "metadata": {
        "id": "EBMWAA6TeAQT"
      },
      "execution_count": 9,
      "outputs": []
    },
    {
      "cell_type": "code",
      "source": [
        "# 비제로 가중치 계산 함수\n",
        "def count_nonzero_weights(model):\n",
        "    nonzero_count = 0\n",
        "    total_count = 0\n",
        "    for name, param in model.named_parameters():\n",
        "        if param.requires_grad:\n",
        "            nonzero_count += torch.sum(param != 0).item()\n",
        "            total_count += param.numel()\n",
        "    return nonzero_count, total_count"
      ],
      "metadata": {
        "id": "nt4JQhyWeAS7"
      },
      "execution_count": 10,
      "outputs": []
    },
    {
      "cell_type": "code",
      "source": [
        "# 모델 초기화 및 학습 설정\n",
        "model = CNNModel(input_length=input_length)\n",
        "criterion = nn.CrossEntropyLoss()\n",
        "optimizer = optim.Adam(model.parameters(), lr=0.00001, weight_decay=8e-5)  # weight_decay 값을 조정하여 L2 정규화 강도 설정"
      ],
      "metadata": {
        "id": "UlUzSoFueAV0"
      },
      "execution_count": 11,
      "outputs": []
    },
    {
      "cell_type": "code",
      "source": [
        "# 모델 크기 출력\n",
        "model_size = get_model_size(model)\n",
        "print(f'Model size: {model_size:.2f} MB')"
      ],
      "metadata": {
        "id": "e8Pa47ApeAYb",
        "colab": {
          "base_uri": "https://localhost:8080/"
        },
        "outputId": "cf8a1352-61dc-4a87-9032-cc5edfebbc2a"
      },
      "execution_count": 12,
      "outputs": [
        {
          "output_type": "stream",
          "name": "stdout",
          "text": [
            "Model size: 158.50 MB\n"
          ]
        }
      ]
    },
    {
      "cell_type": "code",
      "source": [
        "# 모델 학습\n",
        "trained_model = train_model(model, train_loader, val_loader, criterion, optimizer, num_epochs=15)"
      ],
      "metadata": {
        "id": "loXkrkikeAbU",
        "colab": {
          "base_uri": "https://localhost:8080/",
          "height": 1000
        },
        "outputId": "0a20ce00-2e05-42f3-db2e-c6c6beaba12c"
      },
      "execution_count": 13,
      "outputs": [
        {
          "output_type": "stream",
          "name": "stderr",
          "text": [
            "Epoch 1/15: 100%|██████████| 788/788 [00:21<00:00, 37.31batch/s, accuracy=54.2, loss=0.523]\n"
          ]
        },
        {
          "output_type": "stream",
          "name": "stdout",
          "text": [
            "Epoch [1/15], Loss: 1.1973, Accuracy: 54.18%, Val Loss: 0.7079, Val Accuracy: 74.98%\n"
          ]
        },
        {
          "output_type": "stream",
          "name": "stderr",
          "text": [
            "Epoch 2/15: 100%|██████████| 788/788 [00:20<00:00, 38.91batch/s, accuracy=92.8, loss=0.217]\n"
          ]
        },
        {
          "output_type": "stream",
          "name": "stdout",
          "text": [
            "Epoch [2/15], Loss: 0.3355, Accuracy: 92.85%, Val Loss: 0.4626, Val Accuracy: 79.35%\n"
          ]
        },
        {
          "output_type": "stream",
          "name": "stderr",
          "text": [
            "Epoch 3/15: 100%|██████████| 788/788 [00:19<00:00, 39.69batch/s, accuracy=95.1, loss=0.152]\n"
          ]
        },
        {
          "output_type": "stream",
          "name": "stdout",
          "text": [
            "Epoch [3/15], Loss: 0.1637, Accuracy: 95.09%, Val Loss: 0.4380, Val Accuracy: 81.13%\n"
          ]
        },
        {
          "output_type": "stream",
          "name": "stderr",
          "text": [
            "Epoch 4/15: 100%|██████████| 788/788 [00:19<00:00, 39.63batch/s, accuracy=95.9, loss=0.0663]\n"
          ]
        },
        {
          "output_type": "stream",
          "name": "stdout",
          "text": [
            "Epoch [4/15], Loss: 0.1282, Accuracy: 95.86%, Val Loss: 0.3225, Val Accuracy: 86.04%\n"
          ]
        },
        {
          "output_type": "stream",
          "name": "stderr",
          "text": [
            "Epoch 5/15: 100%|██████████| 788/788 [00:19<00:00, 39.54batch/s, accuracy=96.7, loss=0.0129]\n"
          ]
        },
        {
          "output_type": "stream",
          "name": "stdout",
          "text": [
            "Epoch [5/15], Loss: 0.1054, Accuracy: 96.72%, Val Loss: 0.2644, Val Accuracy: 88.59%\n"
          ]
        },
        {
          "output_type": "stream",
          "name": "stderr",
          "text": [
            "Epoch 6/15: 100%|██████████| 788/788 [00:19<00:00, 39.53batch/s, accuracy=97.3, loss=0.041]\n"
          ]
        },
        {
          "output_type": "stream",
          "name": "stdout",
          "text": [
            "Epoch [6/15], Loss: 0.0887, Accuracy: 97.34%, Val Loss: 0.1278, Val Accuracy: 96.39%\n"
          ]
        },
        {
          "output_type": "stream",
          "name": "stderr",
          "text": [
            "Epoch 7/15: 100%|██████████| 788/788 [00:19<00:00, 39.53batch/s, accuracy=97.6, loss=0.0339]\n"
          ]
        },
        {
          "output_type": "stream",
          "name": "stdout",
          "text": [
            "Epoch [7/15], Loss: 0.0752, Accuracy: 97.63%, Val Loss: 0.0810, Val Accuracy: 98.78%\n"
          ]
        },
        {
          "output_type": "stream",
          "name": "stderr",
          "text": [
            "Epoch 8/15: 100%|██████████| 788/788 [00:19<00:00, 39.84batch/s, accuracy=98.2, loss=0.0353]\n"
          ]
        },
        {
          "output_type": "stream",
          "name": "stdout",
          "text": [
            "Epoch [8/15], Loss: 0.0613, Accuracy: 98.16%, Val Loss: 0.0522, Val Accuracy: 99.37%\n"
          ]
        },
        {
          "output_type": "stream",
          "name": "stderr",
          "text": [
            "Epoch 9/15: 100%|██████████| 788/788 [00:19<00:00, 39.82batch/s, accuracy=98.6, loss=0.0038]\n"
          ]
        },
        {
          "output_type": "stream",
          "name": "stdout",
          "text": [
            "Epoch [9/15], Loss: 0.0505, Accuracy: 98.57%, Val Loss: 0.0373, Val Accuracy: 99.28%\n"
          ]
        },
        {
          "output_type": "stream",
          "name": "stderr",
          "text": [
            "Epoch 10/15: 100%|██████████| 788/788 [00:19<00:00, 39.79batch/s, accuracy=98.9, loss=0.0137]\n"
          ]
        },
        {
          "output_type": "stream",
          "name": "stdout",
          "text": [
            "Epoch [10/15], Loss: 0.0387, Accuracy: 98.90%, Val Loss: 0.0270, Val Accuracy: 99.63%\n"
          ]
        },
        {
          "output_type": "stream",
          "name": "stderr",
          "text": [
            "Epoch 11/15: 100%|██████████| 788/788 [00:19<00:00, 39.74batch/s, accuracy=99.2, loss=0.0628]\n"
          ]
        },
        {
          "output_type": "stream",
          "name": "stdout",
          "text": [
            "Epoch [11/15], Loss: 0.0299, Accuracy: 99.20%, Val Loss: 0.0587, Val Accuracy: 98.54%\n"
          ]
        },
        {
          "output_type": "stream",
          "name": "stderr",
          "text": [
            "Epoch 12/15: 100%|██████████| 788/788 [00:19<00:00, 40.01batch/s, accuracy=99.4, loss=0.0104]\n"
          ]
        },
        {
          "output_type": "stream",
          "name": "stdout",
          "text": [
            "Epoch [12/15], Loss: 0.0232, Accuracy: 99.37%, Val Loss: 0.0203, Val Accuracy: 99.80%\n"
          ]
        },
        {
          "output_type": "stream",
          "name": "stderr",
          "text": [
            "Epoch 13/15: 100%|██████████| 788/788 [00:19<00:00, 39.76batch/s, accuracy=99.5, loss=0.00365]\n"
          ]
        },
        {
          "output_type": "stream",
          "name": "stdout",
          "text": [
            "Epoch [13/15], Loss: 0.0187, Accuracy: 99.48%, Val Loss: 0.0163, Val Accuracy: 99.83%\n"
          ]
        },
        {
          "output_type": "stream",
          "name": "stderr",
          "text": [
            "Epoch 14/15: 100%|██████████| 788/788 [00:19<00:00, 39.87batch/s, accuracy=99.7, loss=0.0538]\n"
          ]
        },
        {
          "output_type": "stream",
          "name": "stdout",
          "text": [
            "Epoch [14/15], Loss: 0.0124, Accuracy: 99.67%, Val Loss: 0.0303, Val Accuracy: 99.26%\n"
          ]
        },
        {
          "output_type": "stream",
          "name": "stderr",
          "text": [
            "Epoch 15/15: 100%|██████████| 788/788 [00:20<00:00, 39.26batch/s, accuracy=99.8, loss=0.000429]\n"
          ]
        },
        {
          "output_type": "stream",
          "name": "stdout",
          "text": [
            "Epoch [15/15], Loss: 0.0090, Accuracy: 99.77%, Val Loss: 0.0187, Val Accuracy: 99.74%\n"
          ]
        },
        {
          "output_type": "display_data",
          "data": {
            "text/plain": [
              "<Figure size 1200x500 with 2 Axes>"
            ],
            "image/png": "[encoded data removed]"
          },
          "metadata": {}
        }
      ]
    },
    {
      "cell_type": "code",
      "source": [
        "# 최종 테스트 평가\n",
        "\n",
        "print(\"Final evaluation on the test set...\")\n",
        "test_loss, test_accuracy = evaluate_model(trained_model, test_loader, criterion)\n",
        "print(f'Final Test Loss: {test_loss:.4f}, Final Test Accuracy: {test_accuracy:.2f}%')"
      ],
      "metadata": {
        "id": "J1lwHzlDeAd9",
        "colab": {
          "base_uri": "https://localhost:8080/"
        },
        "outputId": "8769791b-aa31-4c24-ff7a-654d6d1c8749"
      },
      "execution_count": 14,
      "outputs": [
        {
          "output_type": "stream",
          "name": "stdout",
          "text": [
            "Final evaluation on the test set...\n",
            "Final Test Loss: 0.0101, Final Test Accuracy: 99.87%\n"
          ]
        }
      ]
    },
    {
      "cell_type": "code",
      "source": [
        "# 모델 크기 출력\n",
        "model_size = get_model_size(trained_model)\n",
        "print(f'Model size: {model_size:.2f} MB')"
      ],
      "metadata": {
        "id": "XXXfDCpjeAgz",
        "colab": {
          "base_uri": "https://localhost:8080/"
        },
        "outputId": "a3919145-366a-452c-c8c1-60f8e05a90ba"
      },
      "execution_count": 15,
      "outputs": [
        {
          "output_type": "stream",
          "name": "stdout",
          "text": [
            "Model size: 158.50 MB\n"
          ]
        }
      ]
    },
    {
      "cell_type": "code",
      "source": [
        "# 비제로 가중치 수 계산\n",
        "nonzero_weights, total_weights = count_nonzero_weights(trained_model)\n",
        "print(f\"Number of non-zero weights: {nonzero_weights}\")\n",
        "print(f\"Total number of weights: {total_weights}\")\n",
        "print(f\"Percentage of non-zero weights: {100 * nonzero_weights / total_weights:.2f}%\")"
      ],
      "metadata": {
        "id": "2f0nGEdyeAj7",
        "colab": {
          "base_uri": "https://localhost:8080/"
        },
        "outputId": "6749d6c5-f18a-4979-f74e-c4a2eb5de051"
      },
      "execution_count": 16,
      "outputs": [
        {
          "output_type": "stream",
          "name": "stdout",
          "text": [
            "Number of non-zero weights: 41548649\n",
            "Total number of weights: 41548660\n",
            "Percentage of non-zero weights: 100.00%\n"
          ]
        }
      ]
    },
    {
      "cell_type": "code",
      "source": [
        "# 모델 평가 함수 (혼동 행렬 포함)\n",
        "def evaluate_model(model, loader, criterion):\n",
        "    model.eval()\n",
        "    val_loss = 0.0\n",
        "    correct = 0\n",
        "    total = 0\n",
        "    all_labels = []\n",
        "    all_predictions = []\n",
        "\n",
        "    with torch.no_grad():\n",
        "        for inputs, labels in loader:\n",
        "            inputs, labels = inputs.to(device), labels.to(device)\n",
        "            outputs = model(inputs)\n",
        "            loss = criterion(outputs, labels)\n",
        "            val_loss += loss.item()\n",
        "\n",
        "            _, predicted = torch.max(outputs, 1)\n",
        "            total += labels.size(0)\n",
        "            correct += (predicted == labels).sum().item()\n",
        "\n",
        "            all_labels.extend(labels.cpu().numpy())\n",
        "            all_predictions.extend(predicted.cpu().numpy())\n",
        "\n",
        "    # 혼동 행렬 계산\n",
        "    conf_matrix = confusion_matrix(all_labels, all_predictions)\n",
        "    accuracy = 100 * correct / total\n",
        "    return val_loss / total, accuracy, conf_matrix"
      ],
      "metadata": {
        "id": "nSQdXzMteAmc"
      },
      "execution_count": 17,
      "outputs": []
    },
    {
      "cell_type": "code",
      "source": [
        "# 혼동 행렬 시각화 함수\n",
        "def plot_confusion_matrix(conf_matrix, label_encoder):\n",
        "    categories = label_encoder.classes_  # LabelEncoder의 순서대로 클래스 레이블을 가져옴\n",
        "    plt.figure(figsize=(8, 6))\n",
        "    sns.heatmap(conf_matrix, annot=True, fmt=\"d\", cmap=\"Blues\", xticklabels=categories, yticklabels=categories)\n",
        "    plt.xlabel(\"Predicted Labels\")\n",
        "    plt.ylabel(\"True Labels\")\n",
        "    plt.title(\"Confusion Matrix\")\n",
        "    plt.show()\n",
        "\n",
        "# 테스트 데이터 평가\n",
        "test_loss, test_accuracy, test_conf_matrix = evaluate_model(model, test_loader, criterion)\n",
        "\n",
        "# 결과 출력\n",
        "print(f\"Test Loss: {test_loss:.4f}\")\n",
        "print(f\"Test Accuracy: {test_accuracy:.2f}%\")\n",
        "print(\"Confusion Matrix:\")\n",
        "print(test_conf_matrix)\n",
        "\n",
        "\n",
        "# 혼동 행렬 시각화\n",
        "plot_confusion_matrix(test_conf_matrix, label_encoder)"
      ],
      "metadata": {
        "id": "8PqJwiWIeApT",
        "colab": {
          "base_uri": "https://localhost:8080/",
          "height": 693
        },
        "outputId": "4807b20d-3fe2-4ff8-9d11-a2b0ae518596"
      },
      "execution_count": 18,
      "outputs": [
        {
          "output_type": "stream",
          "name": "stdout",
          "text": [
            "Test Loss: 0.0003\n",
            "Test Accuracy: 99.87%\n",
            "Confusion Matrix:\n",
            "[[1344    0    6    0]\n",
            " [   0 1350    0    0]\n",
            " [   0    0 1349    1]\n",
            " [   0    0    0 1350]]\n"
          ]
        },
        {
          "output_type": "display_data",
          "data": {
            "text/plain": [
              "<Figure size 800x600 with 2 Axes>"
            ],
            "image/png": "[encoded data removed]"
          },
          "metadata": {}
        }
      ]
    },
    {
      "cell_type": "code",
      "source": [
        "from fvcore.nn import FlopCountAnalysis, flop_count_table\n",
        "\n",
        "# FLOPs 계산 함수\n",
        "def calculate_flops(model, input_size):\n",
        "    model.eval()  # 평가 모드로 전환\n",
        "    dummy_input = torch.randn(*input_size).to(device)  # 가짜 입력 생성\n",
        "    flops = FlopCountAnalysis(model, dummy_input)\n",
        "    return flops\n",
        "\n",
        "# 입력 크기 정의 (배치 크기, 채널, 길이)\n",
        "input_size = (1, 1, input_length)  # 배치 크기 1, 채널 1, input_length 사용\n",
        "\n",
        "# FLOPs 계산\n",
        "flops = calculate_flops(trained_model, input_size)\n",
        "\n",
        "# 결과 출력\n",
        "print(f\"Total FLOPs: {flops.total() / 1e6:.2f} MFLOPs\")  # FLOPs를 MegaFLOPs 단위로 변환\n",
        "print(flop_count_table(flops))"
      ],
      "metadata": {
        "id": "zmob-wvgeAr3",
        "colab": {
          "base_uri": "https://localhost:8080/"
        },
        "outputId": "a0c4ef03-bba3-4a67-9001-e132e538b6b2"
      },
      "execution_count": 19,
      "outputs": [
        {
          "output_type": "stream",
          "name": "stderr",
          "text": [
            "WARNING:fvcore.nn.jit_analysis:Unsupported operator aten::max_pool1d encountered 2 time(s)\n"
          ]
        },
        {
          "output_type": "stream",
          "name": "stdout",
          "text": [
            "Total FLOPs: 48.42 MFLOPs\n",
            "| module         | #parameters or shape   | #flops   |\n",
            "|:---------------|:-----------------------|:---------|\n",
            "| model          | 41.549M                | 48.425M  |\n",
            "|  conv1         |  1.088K                |  0.256M  |\n",
            "|   conv1.weight |   (64, 1, 16)          |          |\n",
            "|   conv1.bias   |   (64,)                |          |\n",
            "|  conv2         |  6.176K                |  0.756M  |\n",
            "|   conv2.weight |   (32, 64, 3)          |          |\n",
            "|   conv2.bias   |   (32,)                |          |\n",
            "|  conv3         |  10.304K               |  1.219M  |\n",
            "|   conv3.weight |   (64, 32, 5)          |          |\n",
            "|   conv3.bias   |   (64,)                |          |\n",
            "|  conv4         |  41.088K               |  4.71M   |\n",
            "|   conv4.weight |   (128, 64, 5)         |          |\n",
            "|   conv4.bias   |   (128,)               |          |\n",
            "|  fc1           |  36.485M               |  36.48M  |\n",
            "|   fc1.weight   |   (5000, 7296)         |          |\n",
            "|   fc1.bias     |   (5000,)              |          |\n",
            "|  fc2           |  5.001M                |  5M      |\n",
            "|   fc2.weight   |   (1000, 5000)         |          |\n",
            "|   fc2.bias     |   (1000,)              |          |\n",
            "|  fc3           |  4.004K                |  4K      |\n",
            "|   fc3.weight   |   (4, 1000)            |          |\n",
            "|   fc3.bias     |   (4,)                 |          |\n"
          ]
        }
      ]
    },
    {
      "cell_type": "code",
      "source": [
        "print(\"\\nCalculating F1 Score...\")\n",
        "calculate_f1_score(trained_model, test_loader, device)"
      ],
      "metadata": {
        "id": "-t5kDogkeAuk",
        "colab": {
          "base_uri": "https://localhost:8080/"
        },
        "outputId": "a6fcb837-2a08-46f6-e18d-1bcdb65f6046"
      },
      "execution_count": 20,
      "outputs": [
        {
          "output_type": "stream",
          "name": "stdout",
          "text": [
            "\n",
            "Calculating F1 Score...\n",
            "F1 Score: 0.9987\n"
          ]
        }
      ]
    },
    {
      "cell_type": "code",
      "source": [
        "# 파라미터 수 계산 함수\n",
        "def calculate_total_params(model):\n",
        "    total_params = sum(p.numel() for p in model.parameters() if p.requires_grad)\n",
        "    print(f\"Total Parameters: {total_params:,}\")"
      ],
      "metadata": {
        "id": "_AJWMqHNeAxe"
      },
      "execution_count": 21,
      "outputs": []
    },
    {
      "cell_type": "code",
      "source": [
        "print(\"\\nCalculating Total Parameters...\")\n",
        "calculate_total_params(trained_model)"
      ],
      "metadata": {
        "id": "lHtnvyXVeAz0",
        "colab": {
          "base_uri": "https://localhost:8080/"
        },
        "outputId": "37c2330d-804c-4006-8c5e-bc4b0838aac9"
      },
      "execution_count": 22,
      "outputs": [
        {
          "output_type": "stream",
          "name": "stdout",
          "text": [
            "\n",
            "Calculating Total Parameters...\n",
            "Total Parameters: 41,548,660\n"
          ]
        }
      ]
    },
    {
      "cell_type": "code",
      "source": [
        "# 자원 제한 설정 함수\n",
        "def setup_limited_resources(cpu_only=True, num_threads=2):\n",
        "    if cpu_only:\n",
        "        device = torch.device(\"cpu\")\n",
        "    else:\n",
        "        device = torch.device(\"cuda\" if torch.cuda.is_available() else \"cpu\")\n",
        "\n",
        "    # CPU 환경일 경우 스레드 수 제한\n",
        "    if device.type == \"cpu\":\n",
        "        torch.set_num_threads(num_threads)\n",
        "        print(f\"CPU 환경: 스레드 수를 {num_threads}개로 제한합니다.\")\n",
        "    else:\n",
        "        print(f\"GPU 환경: {torch.cuda.get_device_name(0)} 사용 중.\")\n",
        "\n",
        "    return device"
      ],
      "metadata": {
        "id": "F596pUlheA2j"
      },
      "execution_count": 23,
      "outputs": []
    },
    {
      "cell_type": "code",
      "source": [
        "# 추론 시간 측정 함수\n",
        "def measure_inference_time(model, input_data, device, iterations=100):\n",
        "    model.eval()\n",
        "    model.to(device)\n",
        "    input_data = input_data.to(device)\n",
        "\n",
        "    # 추론 시간 측정\n",
        "    with torch.no_grad():\n",
        "        start_time = time.time()\n",
        "        for _ in range(iterations):\n",
        "            _ = model(input_data)\n",
        "        end_time = time.time()\n",
        "\n",
        "    avg_time = (end_time - start_time) / iterations\n",
        "    print(f\"Average Inference Time: {avg_time * 1000:.2f} ms\")\n",
        "    return avg_time"
      ],
      "metadata": {
        "id": "ZlpMzQhMeA5U"
      },
      "execution_count": 24,
      "outputs": []
    },
    {
      "cell_type": "code",
      "source": [
        "# 1. 모델 저장\n",
        "torch.save(model, \"trained_model.pth\")\n",
        "print(\"Model saved as 'trained_model.pth'\")\n",
        "\n",
        "# 2. CPU 환경 설정\n",
        "device_cpu = setup_limited_resources(cpu_only=True, num_threads=2)\n",
        "\n",
        "# 3. 모델 로드\n",
        "model = torch.load(\"trained_model.pth\", map_location=device_cpu, weights_only=False)\n",
        "model.to(device_cpu)\n",
        "model.eval()\n",
        "print(\"Model loaded and moved to CPU.\")"
      ],
      "metadata": {
        "id": "GNZ98YTzeA8E",
        "colab": {
          "base_uri": "https://localhost:8080/"
        },
        "outputId": "3a391735-1ad3-4772-b984-fecb8f64ac7a"
      },
      "execution_count": 25,
      "outputs": [
        {
          "output_type": "stream",
          "name": "stdout",
          "text": [
            "Model saved as 'trained_model.pth'\n",
            "CPU 환경: 스레드 수를 2개로 제한합니다.\n",
            "Model loaded and moved to CPU.\n"
          ]
        }
      ]
    },
    {
      "cell_type": "code",
      "source": [
        "# 데이터 로더에서 샘플 데이터 가져오기\n",
        "for input_data, _ in test_loader:\n",
        "    break  # 첫 번째 배치만 가져옴\n",
        "\n",
        "# 배치에서 첫 번째 샘플 선택 (배치 크기 1로 설정)\n",
        "input_data = input_data[0:1].to(device_cpu)"
      ],
      "metadata": {
        "id": "fifNbOhweA-8"
      },
      "execution_count": 26,
      "outputs": []
    },
    {
      "cell_type": "code",
      "source": [
        "# 5. 제한된 환경에서 추론 시간 측정\n",
        "print(\"\\nMeasuring Inference Time on CPU...\")\n",
        "measure_inference_time(model, input_data, device_cpu, iterations=100)"
      ],
      "metadata": {
        "id": "Ivliu-qfeBBw",
        "colab": {
          "base_uri": "https://localhost:8080/"
        },
        "outputId": "d5a412dc-5a17-44cc-e836-6d4e34fb48bd"
      },
      "execution_count": 53,
      "outputs": [
        {
          "output_type": "stream",
          "name": "stdout",
          "text": [
            "\n",
            "Measuring Inference Time on CPU...\n",
            "Average Inference Time: 47.92 ms\n"
          ]
        },
        {
          "output_type": "execute_result",
          "data": {
            "text/plain": [
              "0.047916140556335446"
            ]
          },
          "metadata": {},
          "execution_count": 53
        }
      ]
    },
    {
      "cell_type": "code",
      "source": [],
      "metadata": {
        "id": "Wtxd4PvHeBEc"
      },
      "execution_count": 27,
      "outputs": []
    },
    {
      "cell_type": "code",
      "source": [],
      "metadata": {
        "id": "V3qr2OVceBG9"
      },
      "execution_count": 27,
      "outputs": []
    },
    {
      "cell_type": "code",
      "source": [],
      "metadata": {
        "id": "XAG8j23oeBJ1"
      },
      "execution_count": 27,
      "outputs": []
    },
    {
      "cell_type": "code",
      "source": [],
      "metadata": {
        "id": "6r1ukU7reBMU"
      },
      "execution_count": 27,
      "outputs": []
    },
    {
      "cell_type": "code",
      "source": [],
      "metadata": {
        "id": "1KV0-E4KeBOz"
      },
      "execution_count": 27,
      "outputs": []
    },
    {
      "cell_type": "code",
      "source": [],
      "metadata": {
        "id": "UM-7NsXpeBRc"
      },
      "execution_count": 27,
      "outputs": []
    },
    {
      "cell_type": "code",
      "source": [],
      "metadata": {
        "id": "2h2cEUydeBUE"
      },
      "execution_count": 27,
      "outputs": []
    },
    {
      "cell_type": "code",
      "source": [],
      "metadata": {
        "id": "E1awPi_2eBWr"
      },
      "execution_count": 27,
      "outputs": []
    },
    {
      "cell_type": "code",
      "source": [],
      "metadata": {
        "id": "_pAGmFHFeBZF"
      },
      "execution_count": 27,
      "outputs": []
    },
    {
      "cell_type": "code",
      "source": [],
      "metadata": {
        "id": "0Q8tYG2ueBbw"
      },
      "execution_count": 27,
      "outputs": []
    },
    {
      "cell_type": "code",
      "source": [],
      "metadata": {
        "id": "9dCAm92heBeM"
      },
      "execution_count": 27,
      "outputs": []
    }
  ]
}